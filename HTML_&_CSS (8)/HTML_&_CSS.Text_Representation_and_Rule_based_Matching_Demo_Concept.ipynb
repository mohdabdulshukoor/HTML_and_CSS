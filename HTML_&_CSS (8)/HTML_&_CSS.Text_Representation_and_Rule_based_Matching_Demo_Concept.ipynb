{
 "cells": [
  {
   "cell_type": "markdown",
   "id": "51a9210a",
   "metadata": {},
   "source": [
    "# Demo1: Discrete Text Representation"
   ]
  },
  {
   "cell_type": "markdown",
   "id": "44a5ce4f",
   "metadata": {},
   "source": [
    "## Bag-of-Words (BOW)"
   ]
  },
  {
   "cell_type": "markdown",
   "id": "e4a1a925",
   "metadata": {},
   "source": [
    "### Importing Required Libraries"
   ]
  },
  {
   "cell_type": "code",
   "execution_count": 2,
   "id": "eca64fc9",
   "metadata": {},
   "outputs": [],
   "source": [
    "import spacy                                                  # Import spaCy library\n",
    "from spacy.lang.en import English                             # Import specific model\n",
    "nlp = spacy.load(\"en_core_web_sm\")                            # Load model\n",
    "import collections\n",
    "from typing import Dict, List, Tuple                          # import dictionaries "
   ]
  },
  {
   "cell_type": "markdown",
   "id": "2ece054a",
   "metadata": {},
   "source": [
    "### BOW Representation"
   ]
  },
  {
   "cell_type": "code",
   "execution_count": 15,
   "id": "d84a9db1",
   "metadata": {},
   "outputs": [
    {
     "name": "stdout",
     "output_type": "stream",
     "text": [
      "['today', 'is', 'Monday', 'and', 'Rainy', 'day', 'today', 'on', 'Monday']\n",
      "\n",
      "BOW Representation: \n",
      " [(0, 2), (1, 1), (2, 2), (3, 1), (4, 1), (5, 1), (6, 1)]\n",
      "\n",
      "\n",
      "{'today': 0, 'is': 1, 'Monday': 2, 'and': 3, 'Rainy': 4, 'day': 5, 'on': 6}\n"
     ]
    }
   ],
   "source": [
    "def text2bow(words: List[str], dictionary: Dict[str, int]) -> List[Tuple[int, int]]:   # Text to BOW\n",
    "    word_frequences = collections.defaultdict(int)\n",
    "    for word in words:\n",
    "        if word not in dictionary:                                                 # Check condition\n",
    "            dictionary[word] = len(dictionary)\n",
    "        word_frequences[dictionary[word]] += 1\n",
    "    return list(word_frequences.items())   # Return word frequencies\n",
    "\n",
    "\n",
    "\n",
    "print(sample_text.split())\n",
    "sample_text = 'today is Monday and Rainy day today on Monday'                           # Input text\n",
    "dictionary = {}                                                              # Initialize dictionary\n",
    "print('\\nBOW Representation: \\n', text2bow(sample_text.split(), dictionary)) \n",
    "# print BOW\n",
    "print(\"\\n\")\n",
    "print(dictionary)"
   ]
  },
  {
   "cell_type": "markdown",
   "id": "2e74e5a1",
   "metadata": {},
   "source": [
    "### Interpretation:\n",
    "### (0,2): Frequency of word at 0th position is 2 in the input sentence\n",
    "### Example: 'today': 0th position. Frequency: 2"
   ]
  },
  {
   "cell_type": "markdown",
   "id": "5ac77aba",
   "metadata": {},
   "source": [
    "### Dictionary Values"
   ]
  },
  {
   "cell_type": "code",
   "execution_count": 16,
   "id": "47433d63",
   "metadata": {},
   "outputs": [
    {
     "name": "stdout",
     "output_type": "stream",
     "text": [
      "Input Text:\n",
      " today is Monday and Rainy day today on Monday\n",
      "\n",
      "Dictionary: \n",
      " {'today': 0, 'is': 1, 'Monday': 2, 'and': 3, 'Rainy': 4, 'day': 5, 'on': 6}\n"
     ]
    }
   ],
   "source": [
    "print('Input Text:\\n',sample_text)                # print input\n",
    "print('\\nDictionary: \\n', dictionary)             # print dictionary values"
   ]
  },
  {
   "cell_type": "markdown",
   "id": "d6bda124",
   "metadata": {},
   "source": [
    "### today: 0th position, is: 1st position, and so on"
   ]
  },
  {
   "cell_type": "markdown",
   "id": "11b8873e",
   "metadata": {},
   "source": [
    "## Example 2"
   ]
  },
  {
   "cell_type": "code",
   "execution_count": 17,
   "id": "204aec35",
   "metadata": {},
   "outputs": [
    {
     "name": "stdout",
     "output_type": "stream",
     "text": [
      "\n",
      "BOW Representation: \n",
      " [(0, 1), (1, 1), (2, 1), (3, 2), (4, 1), (5, 1), (6, 1), (7, 1), (8, 1), (9, 1), (10, 1), (11, 1)]\n",
      "Input Text:\n",
      " process large amount text optimize step post focus count number occurrence word text\n",
      "\n",
      "Dictionary: \n",
      " {'process': 0, 'large': 1, 'amount': 2, 'text': 3, 'optimize': 4, 'step': 5, 'post': 6, 'focus': 7, 'count': 8, 'number': 9, 'occurrence': 10, 'word': 11}\n"
     ]
    }
   ],
   "source": [
    "def text2bow(words: List[str], dictionary: Dict[str, int]) -> List[Tuple[int, int]]:                  # Text to BOW\n",
    "    word_frequences = collections.defaultdict(int)\n",
    "    for word in words:\n",
    "        if word not in dictionary:                                                                    # Check condition\n",
    "            dictionary[word] = len(dictionary)\n",
    "        word_frequences[dictionary[word]] += 1\n",
    "    return list(word_frequences.items())   # Return word frequencies\n",
    "\n",
    "\n",
    "\n",
    "sample_text = 'process large amount text optimize step post focus count number occurrence word text'  # Input text\n",
    "dictionary = {}                                                                                       # Initialize dictionary\n",
    "print('\\nBOW Representation: \\n', text2bow(sample_text.split(), dictionary))                          # print BOW\n",
    "print('Input Text:\\n',sample_text)                                                                    # print input\n",
    "print('\\nDictionary: \\n', dictionary)                                                                 # print dictionary values"
   ]
  },
  {
   "cell_type": "markdown",
   "id": "8fbfa35f",
   "metadata": {},
   "source": [
    "### What are your observations for this example?"
   ]
  },
  {
   "cell_type": "markdown",
   "id": "41ccfca5",
   "metadata": {},
   "source": [
    "# Demo2: Word Vectors and Semantic Similarity"
   ]
  },
  {
   "cell_type": "markdown",
   "id": "71e50f41",
   "metadata": {},
   "source": [
    "# 1. Word Vector Representation\n",
    "## a) Representation for Single Word"
   ]
  },
  {
   "cell_type": "code",
   "execution_count": 18,
   "id": "61cc9d42",
   "metadata": {},
   "outputs": [
    {
     "name": "stdout",
     "output_type": "stream",
     "text": [
      "Vector Length:\n",
      " (96,)\n",
      "Word Vector Representation:\n",
      " [ 3.8194752e-01  2.0621240e-01 -1.9165128e-01 -7.4691767e-01\n",
      "  1.1863470e-02 -3.6899722e-01 -1.9101667e-01  4.1357988e-01\n",
      "  7.3490846e-01 -6.8910700e-01 -1.0190321e+00  4.8589745e-01\n",
      "  1.0669317e+00 -6.6930652e-03  9.1499284e-02 -2.2813612e-01\n",
      " -8.2159829e-01 -3.1203431e-01 -7.1994603e-01 -1.8531923e-01\n",
      " -8.0108643e-05 -2.9838240e-01 -1.0633576e+00  4.3431371e-01\n",
      "  5.4322565e-01  3.6899900e-01 -1.3740352e-01  5.4435045e-01\n",
      " -2.6267877e-01 -1.0797143e+00  1.4821892e+00 -6.4936471e-01\n",
      " -7.8164339e-01 -9.6260095e-01 -6.4607427e-02 -7.5819835e-02\n",
      " -2.9920429e-01 -7.5433105e-02 -2.9082629e-01 -4.9716616e-01\n",
      " -1.3747739e+00 -9.3444777e-01 -2.0836490e-01 -8.0806613e-02\n",
      " -4.3597981e-01  2.6771492e-01 -5.2945018e-03 -1.0419630e+00\n",
      "  1.3329253e+00  6.0584283e-01 -7.5366354e-01 -2.4943669e-01\n",
      " -9.5081687e-02  1.9147819e-01  4.3883514e-01  1.0505683e+00\n",
      "  1.4141293e+00  8.0665970e-01 -3.6420840e-01  1.6820957e-01\n",
      " -1.2254603e+00 -3.0482271e-01  1.5164346e-01  1.1299782e+00\n",
      " -6.3674468e-01  6.6718268e-01  6.6148043e-01  9.3415624e-01\n",
      " -7.6166314e-01  6.5439492e-02  1.1091704e+00  1.8718134e-01\n",
      " -8.0106401e-01 -2.3167241e-01  5.3742641e-01 -3.3454564e-01\n",
      " -4.6013021e-01 -9.1273332e-01 -6.1504757e-01  8.9234209e-01\n",
      "  4.8256129e-02 -5.2979982e-01  1.7384772e-01  7.5652403e-01\n",
      "  1.9905751e+00 -6.3634747e-01  3.2767290e-01  1.7389977e-01\n",
      "  6.0114074e-01 -6.8713039e-02 -1.3075745e+00  7.3717725e-01\n",
      " -6.0976219e-01  4.7731423e-01  1.2455225e-02  1.4072704e+00]\n"
     ]
    }
   ],
   "source": [
    "doc = nlp(u'Mango')                                       # for single word\n",
    "print('Vector Length:\\n',doc.vector.shape)                # length of vector\n",
    "print('Word Vector Representation:\\n',doc.vector)         # print output"
   ]
  },
  {
   "cell_type": "markdown",
   "id": "3db73608",
   "metadata": {},
   "source": [
    "## b) Representation for Sentence"
   ]
  },
  {
   "cell_type": "code",
   "execution_count": 19,
   "id": "c688f2d3",
   "metadata": {},
   "outputs": [
    {
     "name": "stdout",
     "output_type": "stream",
     "text": [
      "Vector Length:\n",
      " (96,)\n",
      "Word Vector Representation:\n",
      " [-0.08385818 -1.0672662  -0.965654    1.206026    0.28913158 -0.17783883\n",
      "  0.45566997  0.6252638  -0.16610631 -0.6601055   0.12031695 -0.04118265\n",
      "  0.13128175  0.40687072 -0.85072976  0.8772753  -1.1745211  -0.6571657\n",
      "  1.1783938   0.60096866 -0.8293002   0.73897886 -1.4559261  -1.2420754\n",
      " -0.10491681 -0.02193156  0.9765005  -0.84779406 -0.83398616 -0.12860048\n",
      " -0.9319618   0.4529175  -1.2058035  -0.09523329 -0.4876092   1.2158086\n",
      " -1.5960569  -0.44387788  1.1071453  -1.342288    1.4305793  -0.24217686\n",
      " -0.4314505  -0.09381703 -0.98731637  0.35084686  2.0341878   1.1884524\n",
      "  1.0561584  -1.1218573  -1.3778015  -0.8246187  -0.40175927  0.5922643\n",
      "  1.4155642   2.054421    1.0763749  -0.3054471   0.23147038 -0.16627765\n",
      "  1.8739094  -0.70183986 -1.0464184   1.3253887   0.6395492   0.740419\n",
      "  0.10558176 -1.047605   -0.363693   -0.42682174  1.9331903   0.00430372\n",
      " -0.36634806  1.2523555  -0.63966334  0.4602051   0.79135525 -0.7855885\n",
      "  0.90270454 -0.18209869 -0.13655727 -1.5476096  -0.56279224  0.6067078\n",
      " -0.02514758 -0.8800018   1.159572   -0.07037669 -0.84097123 -0.00541201\n",
      " -0.23216271 -0.25659695  0.12890542 -0.06906546 -0.39941603 -0.31596118]\n",
      "Vector Length:\n",
      " (96,)\n",
      "Word Vector Representation:\n",
      " [ 0.01505315  0.1493608  -0.29798526 -0.05080774 -0.2375888   0.2324788\n",
      "  0.5095401  -0.27774447  0.9096099  -0.82682264 -0.06284827  0.21250384\n",
      "  0.7881172  -0.86055595  0.3689316   0.20579278  0.27006605  0.46596482\n",
      "  0.5404635  -0.44582152  0.82831347 -1.0219226  -0.39212272  0.10339291\n",
      " -0.44783956  0.2918436   0.22162646  0.58286154  0.14174259 -0.33518443\n",
      " -0.37509033  0.2851694  -0.7245721   0.07339641 -0.42315456 -0.7949943\n",
      " -0.3360278  -0.5935507  -0.25839514 -0.6192762   0.07311431 -0.33992296\n",
      "  0.17953607 -0.45976022 -0.8390374   0.6472055   0.3756988   0.24069338\n",
      "  0.16387649  0.24196647  0.17363714 -0.83662105  0.11310753  0.16432738\n",
      " -0.5315277   0.46416014  1.4061744  -1.1649358  -0.00963835 -0.5710967\n",
      " -0.04663046 -0.61352897  0.1708517  -0.22799638 -0.34491396 -0.8816879\n",
      "  0.18922831  0.12149137  0.5968793  -0.9994044   0.3172919   0.22760598\n",
      " -1.0597763   0.55131364 -0.76276916  1.5943305   0.04132937  1.043576\n",
      "  0.14502683  1.9933152  -0.45742035 -0.4481879   0.18611833 -0.1138773\n",
      "  0.27676168 -0.31292075 -0.19868468  0.70000744  0.36803925  0.604507\n",
      " -0.74785155  0.18353476  0.27318314 -0.14241925 -0.11121653 -0.5978054 ]\n",
      "Vector Length:\n",
      " (96,)\n",
      "Word Vector Representation:\n",
      " [-0.08861464 -0.86476976  0.45728987 -0.35746622 -0.11746526 -0.53262997\n",
      " -0.00976211 -0.73847705 -0.4370111  -0.7902941  -0.32553735 -1.1496232\n",
      " -0.34501845 -0.00869529 -1.7106907   0.10682517 -1.1709484  -0.7293415\n",
      "  0.35311657  0.1391916   0.8725386  -0.23896709 -0.70912004  1.3264794\n",
      " -0.6346905   0.16165705  1.1805042  -0.93517524 -0.45746252  0.129233\n",
      "  0.14098576  0.9504564  -0.12450631 -0.6889553  -1.307015    1.3779342\n",
      " -0.47121048  0.01409581  0.03683535  0.9712167   0.5198881   0.81506264\n",
      " -0.7493112   0.7964749  -0.38243157  1.6185608  -0.73331404  1.2053474\n",
      " -0.45376557  0.09263813  1.5733682   0.50389284 -0.07238691  1.5591917\n",
      " -0.19127037 -0.36275756 -0.19454175 -0.5918238  -0.09601006 -1.0875314\n",
      " -0.4469775  -0.43418556 -0.2694432   0.3797866   0.38446894 -0.10228455\n",
      "  1.5436977   0.73425436  0.71475995  2.6935506  -0.50131094  2.3218675\n",
      " -1.0461775  -0.9339806  -0.8871616  -0.1439926  -0.90662605  0.70606744\n",
      " -0.49332684 -0.42075056 -0.81881404  1.2355576  -0.34916416  0.19495517\n",
      "  1.7123435   0.92831093 -0.35173738 -1.6887729  -0.39646196  1.2772605\n",
      "  0.21201107 -1.3913827  -0.6161442   0.49344352  1.3954785  -0.43824446]\n",
      "Vector Length:\n",
      " (96,)\n",
      "Word Vector Representation:\n",
      " [ 1.3026731  -1.0985503  -0.4352206  -0.6509204   0.5553466  -0.1407217\n",
      "  0.28475845 -0.7323595  -0.9937983  -0.9849531  -0.10573351 -0.7986267\n",
      "  0.20817806  0.04326813  1.7545401  -0.72042996 -1.4211955  -1.2689614\n",
      "  0.9064429   1.0508925  -0.54163134  0.35423058  0.10646439  1.4299724\n",
      " -0.99772465 -0.65859276 -0.81111443 -0.21629012 -0.9106411   1.5352216\n",
      "  0.41211903  0.80594516 -1.0984466   0.34766993 -0.65609217 -0.57590014\n",
      " -0.5314203   0.26777446  0.66378325 -0.0321824  -1.3849632   0.627573\n",
      "  0.31907725 -1.1956673   1.0169007  -0.7607414   1.5774194   0.15098588\n",
      " -0.5382158  -1.5981898   0.40294385  0.3663928  -0.93041813  0.33900192\n",
      "  1.9896083   1.3027779   0.35700983  0.7356726  -0.82868326  0.35932896\n",
      " -0.8341206  -0.6724782  -1.2434602  -0.5619451  -0.06131363  0.906849\n",
      " -0.20647189 -0.68966544  0.86208963 -0.6199276   0.3680936   1.9576583\n",
      "  0.00941634  0.22553793 -0.29189387 -1.0703615   0.17580098 -0.09958902\n",
      " -0.97734237 -1.0744157  -0.34276348 -0.08884372  2.2542686   0.48994237\n",
      "  0.91999155  0.14040516  0.32003182 -0.41009057  0.45497063  2.554502\n",
      "  0.66719735 -0.7953443   0.4159361  -0.92406505  0.355285    0.47550046]\n",
      "Vector Length:\n",
      " (96,)\n",
      "Word Vector Representation:\n",
      " [ 0.29660505 -0.44094196  0.5883071  -1.0951132   0.5005276   0.48569906\n",
      "  0.57484984 -0.92843425  0.6553068  -0.02084715 -0.10661563 -0.15778583\n",
      "  0.638162    0.16471924  0.67535317  0.5849338   0.29282632 -0.45670196\n",
      "  1.0106629   0.39268264  0.18238448 -0.71977425  1.1778705   0.49000627\n",
      " -0.36396182  1.0454215  -0.01862188 -0.38479954  0.22666623 -0.737956\n",
      " -0.10659835 -1.0263225  -1.4083847  -0.6742326  -1.9932791  -0.01462591\n",
      " -0.05526213  0.50983334 -0.6465682  -0.71951544 -0.3515068  -0.47938985\n",
      " -0.5074636  -1.2266786   0.04888409  1.9637485   0.51861274 -0.7010495\n",
      " -0.7240663  -0.4858331   0.41029826  1.0250711   0.15595154 -0.36515713\n",
      "  1.039142    0.14872684  0.6240093   0.18610848 -0.59319717 -0.4785419\n",
      " -0.9775477  -0.9076408  -0.34025952 -0.3556543   0.13403597  0.19379357\n",
      "  0.1074526   0.40793324 -0.09351613 -1.1659541   0.57081395  0.11855891\n",
      " -0.60507476  0.5304959  -1.4481881   1.4451004   0.69118553  0.35037225\n",
      "  0.01670434  1.058735   -0.28114596 -0.8987109   0.7759132   0.12155169\n",
      "  0.08413148  0.09403011 -0.04941073  0.82497555  0.29811877 -0.37283978\n",
      " -0.7863909  -0.7214048   0.03358423  0.49761438 -0.254979    0.17586343]\n",
      "Vector Length:\n",
      " (96,)\n",
      "Word Vector Representation:\n",
      " [-0.1604239  -0.6213283   0.23001036 -0.9239765  -0.08320204  1.1909392\n",
      "  0.6541941   0.24588272  0.24778408 -0.16513427  1.188954    0.8619679\n",
      " -0.8739208   0.23834248  0.14105862 -0.15415117  0.71882546  0.22477677\n",
      " -1.01547    -0.30964667  1.1562375   0.13826966 -0.19153437 -0.6656116\n",
      " -0.50723875  0.24618801 -0.41763395 -0.11584287 -1.0699328  -0.88511217\n",
      "  0.0653677   1.2950567   0.18346736  0.08908877 -0.17917058 -0.56684667\n",
      "  1.7572899  -1.1719468  -0.33186984  0.21709585 -0.05054104 -0.5718348\n",
      " -0.08500725 -0.15345335  0.05405331 -0.35436305 -0.46805483 -0.526884\n",
      " -0.39344755 -0.83933306 -0.05488755  0.2869418   0.20842853  1.2059464\n",
      " -0.25711304 -0.71549    -0.5242904  -0.57444346 -0.57678026 -0.3197194\n",
      "  0.35815763 -0.7829448  -0.47843063  0.454031   -0.62390906 -1.1038433\n",
      " -1.035482   -1.0882202  -0.9439433   0.6141343  -0.16735378  2.2377834\n",
      "  0.5322318   1.8629825  -0.01557162 -0.4994179   2.1330433  -0.5580386\n",
      " -0.41163003  0.66525435 -0.38789195  0.9004927   0.53887355 -0.24909888\n",
      " -0.20689121  0.4326213  -0.03496242 -0.13979122 -1.0206505  -0.2559719\n",
      "  0.43242913  0.19619489 -0.49452817  1.8861481   1.0072724  -0.3137092 ]\n",
      "Vector Length:\n",
      " (96,)\n",
      "Word Vector Representation:\n",
      " [-1.1879904   1.1625798  -0.31228822 -0.05076955  1.1622832  -0.30857956\n",
      " -0.99246955 -0.900841    0.101603   -0.6735846   0.19675615 -0.63947415\n",
      "  0.6488294   1.6044619   0.78646344 -1.1045946   0.81473184  0.00947583\n",
      " -0.49554554  0.79548717  0.50763345 -0.36555907 -0.2153293   0.58141303\n",
      "  0.54109466  1.2074633   0.40558293 -0.76906633 -0.3091725  -1.6123279\n",
      " -1.068331    0.7482978   1.2960315   0.8681425  -0.9380544  -0.39260298\n",
      "  0.5568768  -0.17294481 -0.1253936   0.2763806   1.9849559  -1.3490918\n",
      "  0.6112005  -1.1535368   0.00958591 -0.4833667   1.2305694  -1.510815\n",
      " -0.3599467  -0.65819347 -0.22586048 -0.9321151  -0.3726608  -1.2004756\n",
      " -0.9235177  -0.97735393 -0.72593504 -0.8214148   1.5357249   0.04042561\n",
      " -0.0567938  -0.6033039   0.5623672   0.31207922 -0.7240655  -0.37228605\n",
      "  0.5572643   0.661946   -0.8841017  -0.04692278  0.131317   -0.24032813\n",
      "  0.36831152 -0.24787796  0.89552814 -0.41027415  0.04599077 -1.7180309\n",
      " -0.53301466  0.97860956 -0.2603384  -1.1665121   0.7533326   0.7655241\n",
      " -0.8569956  -0.42774445  0.6104393   0.49600703  0.5212157   2.6300704\n",
      "  1.7074156   1.5815167  -0.2973717  -0.61234796 -0.00627369  0.01055446]\n",
      "Vector Length:\n",
      " (96,)\n",
      "Word Vector Representation:\n",
      " [-1.1047412   0.3509615   1.873186   -0.5414064  -0.841879   -1.0638667\n",
      "  0.20274428 -0.70836896 -0.46643776  0.6701054   0.15007964 -0.6709515\n",
      " -0.5870272  -0.65053916 -1.4932681  -0.5578779  -1.009202    0.8459993\n",
      "  4.663007   -0.36824563  0.5322733  -0.6764308  -2.2289767  -0.7172052\n",
      "  0.18724252  1.9992925   0.31041223  0.53505284  0.8131554  -1.1841003\n",
      " -0.13149297  0.23123631 -0.02115753  1.1761851   1.2231562   1.1099102\n",
      "  0.1057397   0.86530846 -0.05665317 -1.268434   -0.33073905 -0.10698533\n",
      " -0.23130581 -0.40794402  0.4514256  -0.67370915 -0.30640197 -1.2689759\n",
      "  0.29229593  0.54374975 -0.2405707   0.79244316  1.1757098   0.4823417\n",
      "  0.0628259  -0.5956555  -2.0987406  -0.20337683  0.1720494  -1.1327653\n",
      " -0.5264905  -0.5970253  -0.81544197 -0.7273762   0.5983211   0.4900701\n",
      "  0.3216265   1.7861654   0.9489101   1.2174504   0.5556669  -1.1584705\n",
      " -0.25565112 -0.5544062   1.4542654  -0.33529615  0.29058617 -0.0968796\n",
      " -0.3899808  -1.1579683  -0.8804556   0.5774961  -0.40039548  0.4713394\n",
      " -0.16994649 -0.26374757 -0.05330127 -0.6071008  -0.53906137 -0.56763923\n",
      " -0.5067985   5.330714   -0.42256507 -0.17642975 -0.34603414  1.5006965 ]\n"
     ]
    }
   ],
   "source": [
    "doc = nlp(u'The infrastructure of our school is wonderful.')            # Input\n",
    "for token in doc:\n",
    "    print('Vector Length:\\n',token.vector.shape)                       # length of vector\n",
    "    print('Word Vector Representation:\\n',token.vector)                # print output"
   ]
  },
  {
   "cell_type": "markdown",
   "id": "0e5c0c68",
   "metadata": {},
   "source": [
    "# 2. Semantic Similarity"
   ]
  },
  {
   "cell_type": "markdown",
   "id": "34b358e6",
   "metadata": {},
   "source": [
    "### Download the following Models \n",
    "#### python -m spacy download en_core_web_lg\n",
    "#### python -m spacy download en_core_web_md"
   ]
  },
  {
   "cell_type": "code",
   "execution_count": 26,
   "id": "9e7f5f7a",
   "metadata": {},
   "outputs": [
    {
     "name": "stdout",
     "output_type": "stream",
     "text": [
      "Collecting en-core-web-lg==3.3.0\n",
      "  Downloading https://github.com/explosion/spacy-models/releases/download/en_core_web_lg-3.3.0/en_core_web_lg-3.3.0-py3-none-any.whl (400.7 MB)\n",
      "     -------------------------------------- 400.7/400.7 MB 1.4 MB/s eta 0:00:00\n",
      "Requirement already satisfied: spacy<3.4.0,>=3.3.0.dev0 in c:\\users\\admin\\appdata\\local\\programs\\python\\python310\\lib\\site-packages (from en-core-web-lg==3.3.0) (3.3.0)\n",
      "Requirement already satisfied: srsly<3.0.0,>=2.4.3 in c:\\users\\admin\\appdata\\local\\programs\\python\\python310\\lib\\site-packages (from spacy<3.4.0,>=3.3.0.dev0->en-core-web-lg==3.3.0) (2.4.3)\n",
      "Requirement already satisfied: thinc<8.1.0,>=8.0.14 in c:\\users\\admin\\appdata\\local\\programs\\python\\python310\\lib\\site-packages (from spacy<3.4.0,>=3.3.0.dev0->en-core-web-lg==3.3.0) (8.0.15)\n",
      "Requirement already satisfied: requests<3.0.0,>=2.13.0 in c:\\users\\admin\\appdata\\local\\programs\\python\\python310\\lib\\site-packages (from spacy<3.4.0,>=3.3.0.dev0->en-core-web-lg==3.3.0) (2.27.1)\n",
      "Requirement already satisfied: pydantic!=1.8,!=1.8.1,<1.9.0,>=1.7.4 in c:\\users\\admin\\appdata\\local\\programs\\python\\python310\\lib\\site-packages (from spacy<3.4.0,>=3.3.0.dev0->en-core-web-lg==3.3.0) (1.8.2)\n",
      "Requirement already satisfied: packaging>=20.0 in c:\\users\\admin\\appdata\\local\\programs\\python\\python310\\lib\\site-packages (from spacy<3.4.0,>=3.3.0.dev0->en-core-web-lg==3.3.0) (21.3)\n",
      "Requirement already satisfied: pathy>=0.3.5 in c:\\users\\admin\\appdata\\local\\programs\\python\\python310\\lib\\site-packages (from spacy<3.4.0,>=3.3.0.dev0->en-core-web-lg==3.3.0) (0.6.1)\n",
      "Requirement already satisfied: catalogue<2.1.0,>=2.0.6 in c:\\users\\admin\\appdata\\local\\programs\\python\\python310\\lib\\site-packages (from spacy<3.4.0,>=3.3.0.dev0->en-core-web-lg==3.3.0) (2.0.7)\n",
      "Requirement already satisfied: preshed<3.1.0,>=3.0.2 in c:\\users\\admin\\appdata\\local\\programs\\python\\python310\\lib\\site-packages (from spacy<3.4.0,>=3.3.0.dev0->en-core-web-lg==3.3.0) (3.0.6)\n",
      "Requirement already satisfied: murmurhash<1.1.0,>=0.28.0 in c:\\users\\admin\\appdata\\local\\programs\\python\\python310\\lib\\site-packages (from spacy<3.4.0,>=3.3.0.dev0->en-core-web-lg==3.3.0) (1.0.7)\n",
      "Requirement already satisfied: langcodes<4.0.0,>=3.2.0 in c:\\users\\admin\\appdata\\local\\programs\\python\\python310\\lib\\site-packages (from spacy<3.4.0,>=3.3.0.dev0->en-core-web-lg==3.3.0) (3.3.0)\n",
      "Requirement already satisfied: tqdm<5.0.0,>=4.38.0 in c:\\users\\admin\\appdata\\local\\programs\\python\\python310\\lib\\site-packages (from spacy<3.4.0,>=3.3.0.dev0->en-core-web-lg==3.3.0) (4.64.0)\n",
      "Requirement already satisfied: wasabi<1.1.0,>=0.9.1 in c:\\users\\admin\\appdata\\local\\programs\\python\\python310\\lib\\site-packages (from spacy<3.4.0,>=3.3.0.dev0->en-core-web-lg==3.3.0) (0.9.1)\n",
      "Requirement already satisfied: setuptools in c:\\users\\admin\\appdata\\local\\programs\\python\\python310\\lib\\site-packages (from spacy<3.4.0,>=3.3.0.dev0->en-core-web-lg==3.3.0) (62.1.0)\n",
      "Requirement already satisfied: blis<0.8.0,>=0.4.0 in c:\\users\\admin\\appdata\\local\\programs\\python\\python310\\lib\\site-packages (from spacy<3.4.0,>=3.3.0.dev0->en-core-web-lg==3.3.0) (0.7.7)\n",
      "Requirement already satisfied: spacy-loggers<2.0.0,>=1.0.0 in c:\\users\\admin\\appdata\\local\\programs\\python\\python310\\lib\\site-packages (from spacy<3.4.0,>=3.3.0.dev0->en-core-web-lg==3.3.0) (1.0.2)\n",
      "Requirement already satisfied: spacy-legacy<3.1.0,>=3.0.9 in c:\\users\\admin\\appdata\\local\\programs\\python\\python310\\lib\\site-packages (from spacy<3.4.0,>=3.3.0.dev0->en-core-web-lg==3.3.0) (3.0.9)\n",
      "Requirement already satisfied: cymem<2.1.0,>=2.0.2 in c:\\users\\admin\\appdata\\local\\programs\\python\\python310\\lib\\site-packages (from spacy<3.4.0,>=3.3.0.dev0->en-core-web-lg==3.3.0) (2.0.6)\n",
      "Requirement already satisfied: numpy>=1.15.0 in c:\\users\\admin\\appdata\\local\\programs\\python\\python310\\lib\\site-packages (from spacy<3.4.0,>=3.3.0.dev0->en-core-web-lg==3.3.0) (1.22.3)\n",
      "Requirement already satisfied: jinja2 in c:\\users\\admin\\appdata\\local\\programs\\python\\python310\\lib\\site-packages (from spacy<3.4.0,>=3.3.0.dev0->en-core-web-lg==3.3.0) (3.1.1)\n",
      "Requirement already satisfied: typer<0.5.0,>=0.3.0 in c:\\users\\admin\\appdata\\local\\programs\\python\\python310\\lib\\site-packages (from spacy<3.4.0,>=3.3.0.dev0->en-core-web-lg==3.3.0) (0.4.1)\n",
      "Requirement already satisfied: pyparsing!=3.0.5,>=2.0.2 in c:\\users\\admin\\appdata\\local\\programs\\python\\python310\\lib\\site-packages (from packaging>=20.0->spacy<3.4.0,>=3.3.0.dev0->en-core-web-lg==3.3.0) (3.0.7)\n",
      "Requirement already satisfied: smart-open<6.0.0,>=5.0.0 in c:\\users\\admin\\appdata\\local\\programs\\python\\python310\\lib\\site-packages (from pathy>=0.3.5->spacy<3.4.0,>=3.3.0.dev0->en-core-web-lg==3.3.0) (5.2.1)\n",
      "Requirement already satisfied: typing-extensions>=3.7.4.3 in c:\\users\\admin\\appdata\\local\\programs\\python\\python310\\lib\\site-packages (from pydantic!=1.8,!=1.8.1,<1.9.0,>=1.7.4->spacy<3.4.0,>=3.3.0.dev0->en-core-web-lg==3.3.0) (4.1.1)\n",
      "Requirement already satisfied: charset-normalizer~=2.0.0 in c:\\users\\admin\\appdata\\local\\programs\\python\\python310\\lib\\site-packages (from requests<3.0.0,>=2.13.0->spacy<3.4.0,>=3.3.0.dev0->en-core-web-lg==3.3.0) (2.0.12)\n",
      "Requirement already satisfied: urllib3<1.27,>=1.21.1 in c:\\users\\admin\\appdata\\local\\programs\\python\\python310\\lib\\site-packages (from requests<3.0.0,>=2.13.0->spacy<3.4.0,>=3.3.0.dev0->en-core-web-lg==3.3.0) (1.26.9)\n",
      "Requirement already satisfied: certifi>=2017.4.17 in c:\\users\\admin\\appdata\\local\\programs\\python\\python310\\lib\\site-packages (from requests<3.0.0,>=2.13.0->spacy<3.4.0,>=3.3.0.dev0->en-core-web-lg==3.3.0) (2021.10.8)\n",
      "Requirement already satisfied: idna<4,>=2.5 in c:\\users\\admin\\appdata\\local\\programs\\python\\python310\\lib\\site-packages (from requests<3.0.0,>=2.13.0->spacy<3.4.0,>=3.3.0.dev0->en-core-web-lg==3.3.0) (3.3)\n",
      "Requirement already satisfied: colorama in c:\\users\\admin\\appdata\\local\\programs\\python\\python310\\lib\\site-packages (from tqdm<5.0.0,>=4.38.0->spacy<3.4.0,>=3.3.0.dev0->en-core-web-lg==3.3.0) (0.4.4)\n",
      "Requirement already satisfied: click<9.0.0,>=7.1.1 in c:\\users\\admin\\appdata\\local\\programs\\python\\python310\\lib\\site-packages (from typer<0.5.0,>=0.3.0->spacy<3.4.0,>=3.3.0.dev0->en-core-web-lg==3.3.0) (8.1.2)\n",
      "Requirement already satisfied: MarkupSafe>=2.0 in c:\\users\\admin\\appdata\\local\\programs\\python\\python310\\lib\\site-packages (from jinja2->spacy<3.4.0,>=3.3.0.dev0->en-core-web-lg==3.3.0) (2.0.1)\n",
      "Installing collected packages: en-core-web-lg\n",
      "Successfully installed en-core-web-lg-3.3.0\n",
      "[+] Download and installation successful\n",
      "You can now load the package via spacy.load('en_core_web_lg')\n"
     ]
    }
   ],
   "source": [
    "!python -m spacy download en_core_web_lg"
   ]
  },
  {
   "cell_type": "code",
   "execution_count": 24,
   "id": "6ee11d04",
   "metadata": {},
   "outputs": [
    {
     "name": "stdout",
     "output_type": "stream",
     "text": [
      "Collecting en-core-web-md==3.3.0\n",
      "  Downloading https://github.com/explosion/spacy-models/releases/download/en_core_web_md-3.3.0/en_core_web_md-3.3.0-py3-none-any.whl (33.5 MB)\n",
      "     ---------------------------------------- 33.5/33.5 MB 6.2 MB/s eta 0:00:00\n",
      "Requirement already satisfied: spacy<3.4.0,>=3.3.0.dev0 in c:\\users\\admin\\appdata\\local\\programs\\python\\python310\\lib\\site-packages (from en-core-web-md==3.3.0) (3.3.0)\n",
      "Requirement already satisfied: murmurhash<1.1.0,>=0.28.0 in c:\\users\\admin\\appdata\\local\\programs\\python\\python310\\lib\\site-packages (from spacy<3.4.0,>=3.3.0.dev0->en-core-web-md==3.3.0) (1.0.7)\n",
      "Requirement already satisfied: spacy-loggers<2.0.0,>=1.0.0 in c:\\users\\admin\\appdata\\local\\programs\\python\\python310\\lib\\site-packages (from spacy<3.4.0,>=3.3.0.dev0->en-core-web-md==3.3.0) (1.0.2)\n",
      "Requirement already satisfied: cymem<2.1.0,>=2.0.2 in c:\\users\\admin\\appdata\\local\\programs\\python\\python310\\lib\\site-packages (from spacy<3.4.0,>=3.3.0.dev0->en-core-web-md==3.3.0) (2.0.6)\n",
      "Requirement already satisfied: catalogue<2.1.0,>=2.0.6 in c:\\users\\admin\\appdata\\local\\programs\\python\\python310\\lib\\site-packages (from spacy<3.4.0,>=3.3.0.dev0->en-core-web-md==3.3.0) (2.0.7)\n",
      "Requirement already satisfied: wasabi<1.1.0,>=0.9.1 in c:\\users\\admin\\appdata\\local\\programs\\python\\python310\\lib\\site-packages (from spacy<3.4.0,>=3.3.0.dev0->en-core-web-md==3.3.0) (0.9.1)\n",
      "Requirement already satisfied: tqdm<5.0.0,>=4.38.0 in c:\\users\\admin\\appdata\\local\\programs\\python\\python310\\lib\\site-packages (from spacy<3.4.0,>=3.3.0.dev0->en-core-web-md==3.3.0) (4.64.0)\n",
      "Requirement already satisfied: packaging>=20.0 in c:\\users\\admin\\appdata\\local\\programs\\python\\python310\\lib\\site-packages (from spacy<3.4.0,>=3.3.0.dev0->en-core-web-md==3.3.0) (21.3)\n",
      "Requirement already satisfied: blis<0.8.0,>=0.4.0 in c:\\users\\admin\\appdata\\local\\programs\\python\\python310\\lib\\site-packages (from spacy<3.4.0,>=3.3.0.dev0->en-core-web-md==3.3.0) (0.7.7)\n",
      "Requirement already satisfied: srsly<3.0.0,>=2.4.3 in c:\\users\\admin\\appdata\\local\\programs\\python\\python310\\lib\\site-packages (from spacy<3.4.0,>=3.3.0.dev0->en-core-web-md==3.3.0) (2.4.3)\n",
      "Requirement already satisfied: thinc<8.1.0,>=8.0.14 in c:\\users\\admin\\appdata\\local\\programs\\python\\python310\\lib\\site-packages (from spacy<3.4.0,>=3.3.0.dev0->en-core-web-md==3.3.0) (8.0.15)\n",
      "Requirement already satisfied: spacy-legacy<3.1.0,>=3.0.9 in c:\\users\\admin\\appdata\\local\\programs\\python\\python310\\lib\\site-packages (from spacy<3.4.0,>=3.3.0.dev0->en-core-web-md==3.3.0) (3.0.9)\n",
      "Requirement already satisfied: typer<0.5.0,>=0.3.0 in c:\\users\\admin\\appdata\\local\\programs\\python\\python310\\lib\\site-packages (from spacy<3.4.0,>=3.3.0.dev0->en-core-web-md==3.3.0) (0.4.1)\n",
      "Requirement already satisfied: pydantic!=1.8,!=1.8.1,<1.9.0,>=1.7.4 in c:\\users\\admin\\appdata\\local\\programs\\python\\python310\\lib\\site-packages (from spacy<3.4.0,>=3.3.0.dev0->en-core-web-md==3.3.0) (1.8.2)\n",
      "Requirement already satisfied: preshed<3.1.0,>=3.0.2 in c:\\users\\admin\\appdata\\local\\programs\\python\\python310\\lib\\site-packages (from spacy<3.4.0,>=3.3.0.dev0->en-core-web-md==3.3.0) (3.0.6)\n",
      "Requirement already satisfied: langcodes<4.0.0,>=3.2.0 in c:\\users\\admin\\appdata\\local\\programs\\python\\python310\\lib\\site-packages (from spacy<3.4.0,>=3.3.0.dev0->en-core-web-md==3.3.0) (3.3.0)\n",
      "Requirement already satisfied: jinja2 in c:\\users\\admin\\appdata\\local\\programs\\python\\python310\\lib\\site-packages (from spacy<3.4.0,>=3.3.0.dev0->en-core-web-md==3.3.0) (3.1.1)\n",
      "Requirement already satisfied: setuptools in c:\\users\\admin\\appdata\\local\\programs\\python\\python310\\lib\\site-packages (from spacy<3.4.0,>=3.3.0.dev0->en-core-web-md==3.3.0) (62.1.0)\n",
      "Requirement already satisfied: requests<3.0.0,>=2.13.0 in c:\\users\\admin\\appdata\\local\\programs\\python\\python310\\lib\\site-packages (from spacy<3.4.0,>=3.3.0.dev0->en-core-web-md==3.3.0) (2.27.1)\n",
      "Requirement already satisfied: pathy>=0.3.5 in c:\\users\\admin\\appdata\\local\\programs\\python\\python310\\lib\\site-packages (from spacy<3.4.0,>=3.3.0.dev0->en-core-web-md==3.3.0) (0.6.1)\n",
      "Requirement already satisfied: numpy>=1.15.0 in c:\\users\\admin\\appdata\\local\\programs\\python\\python310\\lib\\site-packages (from spacy<3.4.0,>=3.3.0.dev0->en-core-web-md==3.3.0) (1.22.3)\n",
      "Requirement already satisfied: pyparsing!=3.0.5,>=2.0.2 in c:\\users\\admin\\appdata\\local\\programs\\python\\python310\\lib\\site-packages (from packaging>=20.0->spacy<3.4.0,>=3.3.0.dev0->en-core-web-md==3.3.0) (3.0.7)\n",
      "Requirement already satisfied: smart-open<6.0.0,>=5.0.0 in c:\\users\\admin\\appdata\\local\\programs\\python\\python310\\lib\\site-packages (from pathy>=0.3.5->spacy<3.4.0,>=3.3.0.dev0->en-core-web-md==3.3.0) (5.2.1)\n",
      "Requirement already satisfied: typing-extensions>=3.7.4.3 in c:\\users\\admin\\appdata\\local\\programs\\python\\python310\\lib\\site-packages (from pydantic!=1.8,!=1.8.1,<1.9.0,>=1.7.4->spacy<3.4.0,>=3.3.0.dev0->en-core-web-md==3.3.0) (4.1.1)\n",
      "Requirement already satisfied: certifi>=2017.4.17 in c:\\users\\admin\\appdata\\local\\programs\\python\\python310\\lib\\site-packages (from requests<3.0.0,>=2.13.0->spacy<3.4.0,>=3.3.0.dev0->en-core-web-md==3.3.0) (2021.10.8)\n",
      "Requirement already satisfied: charset-normalizer~=2.0.0 in c:\\users\\admin\\appdata\\local\\programs\\python\\python310\\lib\\site-packages (from requests<3.0.0,>=2.13.0->spacy<3.4.0,>=3.3.0.dev0->en-core-web-md==3.3.0) (2.0.12)\n",
      "Requirement already satisfied: urllib3<1.27,>=1.21.1 in c:\\users\\admin\\appdata\\local\\programs\\python\\python310\\lib\\site-packages (from requests<3.0.0,>=2.13.0->spacy<3.4.0,>=3.3.0.dev0->en-core-web-md==3.3.0) (1.26.9)\n",
      "Requirement already satisfied: idna<4,>=2.5 in c:\\users\\admin\\appdata\\local\\programs\\python\\python310\\lib\\site-packages (from requests<3.0.0,>=2.13.0->spacy<3.4.0,>=3.3.0.dev0->en-core-web-md==3.3.0) (3.3)\n",
      "Requirement already satisfied: colorama in c:\\users\\admin\\appdata\\local\\programs\\python\\python310\\lib\\site-packages (from tqdm<5.0.0,>=4.38.0->spacy<3.4.0,>=3.3.0.dev0->en-core-web-md==3.3.0) (0.4.4)\n",
      "Requirement already satisfied: click<9.0.0,>=7.1.1 in c:\\users\\admin\\appdata\\local\\programs\\python\\python310\\lib\\site-packages (from typer<0.5.0,>=0.3.0->spacy<3.4.0,>=3.3.0.dev0->en-core-web-md==3.3.0) (8.1.2)\n",
      "Requirement already satisfied: MarkupSafe>=2.0 in c:\\users\\admin\\appdata\\local\\programs\\python\\python310\\lib\\site-packages (from jinja2->spacy<3.4.0,>=3.3.0.dev0->en-core-web-md==3.3.0) (2.0.1)\n",
      "Installing collected packages: en-core-web-md\n",
      "Successfully installed en-core-web-md-3.3.0\n",
      "[+] Download and installation successful\n",
      "You can now load the package via spacy.load('en_core_web_md')\n"
     ]
    }
   ],
   "source": [
    "!python -m spacy download en_core_web_md"
   ]
  },
  {
   "cell_type": "code",
   "execution_count": 28,
   "id": "142b02b6",
   "metadata": {},
   "outputs": [
    {
     "name": "stdout",
     "output_type": "stream",
     "text": [
      "Text= dog , Vector= True , OOV= False\n",
      "Text= cat , Vector= True , OOV= False\n",
      "Text= car , Vector= True , OOV= False\n",
      "Text= afskfsd , Vector= False , OOV= True\n",
      "Text= apple , Vector= True , OOV= False\n"
     ]
    }
   ],
   "source": [
    "nlp = spacy.load(\"en_core_web_lg\")                                                    # Load model    \n",
    "doc = nlp(\"dog cat car afskfsd apple\")                                                # Input text\n",
    "\n",
    "for token in doc:\n",
    "    print('Text=',token.text,', Vector=',token.has_vector,', OOV=', token.is_oov)     # Check words in vocab or not"
   ]
  },
  {
   "cell_type": "markdown",
   "id": "2fb69ef6",
   "metadata": {},
   "source": [
    "#### Text: The original token text.\n",
    "#### Vector: Does the token have a vector representation?\n",
    "#### OOV: Out-of-vocabulary"
   ]
  },
  {
   "cell_type": "markdown",
   "id": "c6f6f5da",
   "metadata": {},
   "source": [
    "## Check the similarity of words"
   ]
  },
  {
   "cell_type": "code",
   "execution_count": 30,
   "id": "b7013faa",
   "metadata": {},
   "outputs": [
    {
     "name": "stdout",
     "output_type": "stream",
     "text": [
      "dog dog 1.0\n",
      "dog cat 0.8016854524612427\n",
      "dog car 0.35629159212112427\n",
      "dog afskfsd 0.0\n",
      "dog apple 0.2633902430534363\n",
      "cat dog 0.8016854524612427\n",
      "cat cat 1.0\n",
      "cat car 0.3190753161907196\n",
      "cat afskfsd 0.0\n",
      "cat apple 0.2821384370326996\n",
      "car dog 0.35629159212112427\n",
      "car cat 0.3190753161907196\n",
      "car car 1.0\n",
      "car afskfsd 0.0\n",
      "car apple 0.2174709141254425\n",
      "afskfsd dog 0.0\n",
      "afskfsd cat 0.0\n",
      "afskfsd car 0.0\n",
      "afskfsd afskfsd 1.0\n",
      "afskfsd apple 0.0\n",
      "apple dog 0.2633902430534363\n",
      "apple cat 0.2821384370326996\n",
      "apple car 0.2174709141254425\n",
      "apple afskfsd 0.0\n",
      "apple apple 1.0\n"
     ]
    },
    {
     "name": "stderr",
     "output_type": "stream",
     "text": [
      "C:\\Users\\ADMIN\\AppData\\Local\\Temp\\ipykernel_10216\\1531507027.py:3: UserWarning: [W008] Evaluating Token.similarity based on empty vectors.\n",
      "  print(token1.text, token2.text, token1.similarity(token2))      # check similarity of token 1 with token 2\n"
     ]
    }
   ],
   "source": [
    "for token1 in doc:                                                      # For token1\n",
    "    for token2 in doc:                                                  # For token 2\n",
    "        print(token1.text, token2.text, token1.similarity(token2))      # check similarity of token 1 with token 2"
   ]
  },
  {
   "cell_type": "markdown",
   "id": "376205ad",
   "metadata": {},
   "source": [
    "# Demo3: Rule-based Matching"
   ]
  },
  {
   "cell_type": "markdown",
   "id": "a245b840",
   "metadata": {},
   "source": [
    "# 1. Token-based Matching\n",
    "### Pattern 1"
   ]
  },
  {
   "cell_type": "code",
   "execution_count": 37,
   "id": "328c0ec0",
   "metadata": {},
   "outputs": [
    {
     "name": "stdout",
     "output_type": "stream",
     "text": [
      "Hello world\n"
     ]
    }
   ],
   "source": [
    "from spacy.matcher import Matcher                                             # Import matcher\n",
    "nlp = spacy.load(\"en_core_web_sm\")                                            # Load model\n",
    "matcher = Matcher(nlp.vocab)\n",
    "pattern = [{\"LOWER\": \"hello\"}, {\"IS_PUNCT\": True}, {\"LOWER\": \"world\"}]        # Add match ID \"HelloWorld\" with no callback and one pattern\n",
    "#pattern = [{\"LOWER\": \"hello\"}, {\"LOWER\": \"world\"}]\n",
    "matcher.add(\"HelloWorld\", [pattern])\n",
    "doc = nlp(\"Hello, world! Hello world!\")                                       # Input text\n",
    "matches = matcher(doc)\n",
    "for match_id, start, end in matches:                                          # Find matches\n",
    "    string_id = nlp.vocab.strings[match_id]  # Get string representation\n",
    "    span = doc[start:end]  # The matched span\n",
    "    #print(match_id, string_id, start, end, span.text)\n",
    "    print(span.text)                                                          # print output"
   ]
  },
  {
   "cell_type": "markdown",
   "id": "5e2b428a",
   "metadata": {},
   "source": [
    "### Pattern 2"
   ]
  },
  {
   "cell_type": "code",
   "execution_count": 32,
   "id": "cc7a5d20",
   "metadata": {},
   "outputs": [
    {
     "name": "stdout",
     "output_type": "stream",
     "text": [
      "Hello world\n"
     ]
    }
   ],
   "source": [
    "from spacy.matcher import Matcher                                             # Import matcher\n",
    "nlp = spacy.load(\"en_core_web_sm\")                                            # Load model\n",
    "matcher = Matcher(nlp.vocab)\n",
    "pattern = [{\"LOWER\": \"hello\"}, {\"LOWER\": \"world\"}]                            # Add match ID \"HelloWorld\" with no callback and one pattern\n",
    "matcher.add(\"HelloWorld\", [pattern])\n",
    "doc = nlp(\"Hello, world! Hello world!\")                                       # Input text\n",
    "matches = matcher(doc)\n",
    "\n",
    "for match_id, start, end in matches:                                          # Find matches\n",
    "    string_id = nlp.vocab.strings[match_id]  # Get string representation\n",
    "    span = doc[start:end]  # The matched span\n",
    "    #print(match_id, string_id, start, end, span.text)\n",
    "    print(span.text)                                                          # print output"
   ]
  },
  {
   "cell_type": "markdown",
   "id": "68a97f6d",
   "metadata": {},
   "source": [
    "# 2. Efficient Phrase Matching"
   ]
  },
  {
   "cell_type": "code",
   "execution_count": 33,
   "id": "7f1fe9a0",
   "metadata": {},
   "outputs": [
    {
     "name": "stdout",
     "output_type": "stream",
     "text": [
      "Angela Merkel\n",
      "Barack Obama\n",
      "Washington, D.C.\n"
     ]
    }
   ],
   "source": [
    "from spacy.matcher import PhraseMatcher                                               # Import matcher\n",
    "nlp = spacy.load(\"en_core_web_sm\")                                                    # Load model\n",
    "matcher = PhraseMatcher(nlp.vocab)\n",
    "terms = [\"Barack Obama\", \"Angela Merkel\", \"Washington, D.C.\"]\n",
    "patterns = [nlp.make_doc(text) for text in terms]                                     # Only run nlp.make_doc to speed things up\n",
    "matcher.add(\"TerminologyList\", patterns)\n",
    "doc = nlp(\"German Chancellor Angela Merkel and US President Barack Obama \"            # Input text\n",
    "          \"converse in the Oval Office inside the White House in Washington, D.C.\")\n",
    "matches = matcher(doc)\n",
    "for match_id, start, end in matches:                                                  # Find matches\n",
    "    span = doc[start:end]\n",
    "    print(span.text)                                                                  # print output"
   ]
  },
  {
   "cell_type": "markdown",
   "id": "aa454e87",
   "metadata": {},
   "source": [
    "# Case-Insensitive Match Patterns"
   ]
  },
  {
   "cell_type": "code",
   "execution_count": 34,
   "id": "3346eaeb",
   "metadata": {},
   "outputs": [
    {
     "name": "stdout",
     "output_type": "stream",
     "text": [
      "Matched based on lowercase token text: angela merkel\n",
      "Matched based on lowercase token text: barack Obama\n"
     ]
    }
   ],
   "source": [
    "from spacy.matcher import PhraseMatcher\n",
    "matcher = PhraseMatcher(nlp.vocab, attr=\"LOWER\")\n",
    "patterns = [nlp.make_doc(name) for name in [\"Angela Merkel\", \"Barack Obama\"]]\n",
    "matcher.add(\"Names\", patterns)\n",
    "doc = nlp(\"angela merkel and us president barack Obama\")\n",
    "for match_id, start, end in matcher(doc):\n",
    "    print(\"Matched based on lowercase token text:\", doc[start:end])"
   ]
  },
  {
   "cell_type": "markdown",
   "id": "07f8d785",
   "metadata": {},
   "source": [
    "# 3. Rule-based Entity Recognition"
   ]
  },
  {
   "cell_type": "code",
   "execution_count": 35,
   "id": "d7bef5af",
   "metadata": {},
   "outputs": [
    {
     "name": "stdout",
     "output_type": "stream",
     "text": [
      "[('Apple', 'ORG', 'apple'), ('San Francisco', 'GPE', 'san-francisco')]\n",
      "[('Apple', 'ORG', 'apple'), ('San Fran', 'GPE', 'san-francisco')]\n",
      "[]\n",
      "[]\n"
     ]
    }
   ],
   "source": [
    "# Validating and debugging EntityRuler patterns\n",
    "from spacy.lang.en import English\n",
    "\n",
    "nlp = English()\n",
    "ruler = nlp.add_pipe(\"entity_ruler\")\n",
    "patterns = [{\"label\": \"ORG\", \"pattern\": \"Apple\", \"id\": \"apple\"},\n",
    "            {\"label\": \"GPE\", \"pattern\": [{\"LOWER\": \"san\"}, {\"LOWER\": \"francisco\"}], \"id\": \"san-francisco\"},\n",
    "            {\"label\": \"GPE\", \"pattern\": [{\"LOWER\": \"san\"}, {\"LOWER\": \"fran\"}], \"id\": \"san-francisco\"}]\n",
    "ruler.add_patterns(patterns)\n",
    "\n",
    "doc1 = nlp(\"Apple is opening its first big office in San Francisco.\")\n",
    "print([(ent.text, ent.label_, ent.ent_id_) for ent in doc1.ents])\n",
    "\n",
    "doc2 = nlp(\"Apple is opening its first big office in San Fran.\")\n",
    "print([(ent.text, ent.label_, ent.ent_id_) for ent in doc2.ents])\n",
    "\n",
    "doc3 = nlp(\"Dr. Alex Smith chaired first board meeting of Acme Corp Inc.\")\n",
    "print([(ent.text, ent.label_) for ent in doc3.ents])\n",
    "\n",
    "doc = nlp(\"Alex Smith worked at Acme Corp Inc.\")\n",
    "print([(ent.text, ent.label_) for ent in doc.ents])"
   ]
  },
  {
   "cell_type": "code",
   "execution_count": null,
   "id": "4b758bc0",
   "metadata": {},
   "outputs": [],
   "source": []
  }
 ],
 "metadata": {
  "kernelspec": {
   "display_name": "Python 3 (ipykernel)",
   "language": "python",
   "name": "python3"
  },
  "language_info": {
   "codemirror_mode": {
    "name": "ipython",
    "version": 3
   },
   "file_extension": ".py",
   "mimetype": "text/x-python",
   "name": "python",
   "nbconvert_exporter": "python",
   "pygments_lexer": "ipython3",
   "version": "3.10.2"
  }
 },
 "nbformat": 4,
 "nbformat_minor": 5
}
