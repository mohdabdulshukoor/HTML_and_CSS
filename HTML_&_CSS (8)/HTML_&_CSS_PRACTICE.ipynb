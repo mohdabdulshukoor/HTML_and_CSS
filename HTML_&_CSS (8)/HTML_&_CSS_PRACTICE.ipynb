{
 "cells": [
  {
   "cell_type": "code",
   "execution_count": 1,
   "id": "d6eb7a65",
   "metadata": {},
   "outputs": [],
   "source": [
    "import spacy                                         \n",
    "from spacy.lang.en import English                            \n",
    "nlp = spacy.load(\"en_core_web_sm\")              \n",
    "import collections\n",
    "from typing import Dict, List, Tuple  \n",
    "from spacy.matcher import Matcher                                             "
   ]
  },
  {
   "cell_type": "markdown",
   "id": "9a282b7c",
   "metadata": {},
   "source": [
    "# TASK 1"
   ]
  },
  {
   "cell_type": "code",
   "execution_count": 2,
   "id": "469b7f8c",
   "metadata": {},
   "outputs": [],
   "source": [
    "# Review 1: This movie is very scary and long.\n",
    "# Review 2: This movie is not vrey scary and is slow.\n",
    "# Review 3: This movie is spooky and good.   "
   ]
  },
  {
   "cell_type": "code",
   "execution_count": 3,
   "id": "18c879a3",
   "metadata": {},
   "outputs": [
    {
     "name": "stdout",
     "output_type": "stream",
     "text": [
      "['Review', '1:', 'This', 'movie', 'is', 'very', 'scary', 'and', 'long.']\n",
      "\n",
      "BOW Representation: \n",
      " [(0, 1), (1, 1), (2, 1), (3, 1), (4, 1), (5, 1), (6, 1), (7, 1), (8, 1)]\n",
      "\n",
      "\n",
      "{'Review': 0, '1:': 1, 'This': 2, 'movie': 3, 'is': 4, 'very': 5, 'scary': 6, 'and': 7, 'long.': 8}\n",
      "___________________________________________________________________________________________\n",
      "\n",
      "['Review', '2:', 'This', 'movie', 'is', 'not', 'vrey', 'scary', 'and', 'is', 'slow.']\n",
      "\n",
      "BOW Representation: \n",
      " [(0, 1), (1, 1), (2, 1), (3, 1), (4, 2), (5, 1), (6, 1), (7, 1), (8, 1), (9, 1)]\n",
      "\n",
      "\n",
      "{'Review': 0, '2:': 1, 'This': 2, 'movie': 3, 'is': 4, 'not': 5, 'vrey': 6, 'scary': 7, 'and': 8, 'slow.': 9}\n",
      "___________________________________________________________________________________________\n",
      "\n",
      "['Review', '3:', 'This', 'movie', 'is', 'spooky', 'and', 'good.']\n",
      "\n",
      "BOW Representation: \n",
      " [(0, 1), (1, 1), (2, 1), (3, 1), (4, 1), (5, 1), (6, 1), (7, 1)]\n",
      "\n",
      "\n",
      "{'Review': 0, '3:': 1, 'This': 2, 'movie': 3, 'is': 4, 'spooky': 5, 'and': 6, 'good.': 7}\n"
     ]
    }
   ],
   "source": [
    "def text2bow(words: List[str], dictionary: Dict[str, int]) -> List[Tuple[int, int]]:\n",
    "    word_frequences = collections.defaultdict(int)\n",
    "    \n",
    "    for word in words:\n",
    "        if word not in dictionary:                                                \n",
    "            dictionary[word] = len(dictionary)\n",
    "        word_frequences[dictionary[word]] += 1\n",
    "    return list(word_frequences.items())\n",
    "\n",
    "\n",
    "sample_text1 = \"Review 1: This movie is very scary and long.\"\n",
    "print(sample_text1.split())                  \n",
    "dictionary1 = {}                                                          \n",
    "print('\\nBOW Representation: \\n', text2bow(sample_text1.split(), dictionary1)) \n",
    "print(\"\\n\")\n",
    "print(dictionary1)\n",
    "\n",
    "print(\"___________________________________________________________________________________________\\n\")\n",
    "\n",
    "sample_text2 = \"Review 2: This movie is not vrey scary and is slow.\" \n",
    "print(sample_text2.split()) \n",
    "dictionary2 = {}                                                        \n",
    "print('\\nBOW Representation: \\n', text2bow(sample_text2.split(), dictionary2)) \n",
    "print(\"\\n\")\n",
    "print(dictionary2)\n",
    "\n",
    "print(\"___________________________________________________________________________________________\\n\")\n",
    "\n",
    "sample_text3 = \"Review 3: This movie is spooky and good.\"\n",
    "print(sample_text3.split()) \n",
    "dictionary3 = {}                                                         \n",
    "print('\\nBOW Representation: \\n', text2bow(sample_text3.split(), dictionary3)) \n",
    "print(\"\\n\")\n",
    "print(dictionary3)"
   ]
  },
  {
   "cell_type": "markdown",
   "id": "9bcfbd72",
   "metadata": {},
   "source": [
    "# TASK 2"
   ]
  },
  {
   "cell_type": "code",
   "execution_count": 4,
   "id": "51f3f820",
   "metadata": {},
   "outputs": [
    {
     "name": "stdout",
     "output_type": "stream",
     "text": [
      "Hey, Siri\n",
      "Hey siri\n"
     ]
    }
   ],
   "source": [
    "matcher = Matcher(nlp.vocab)\n",
    "pattern1 = [{\"LOWER\": \"hey\"}, {\"LOWER\": \"siri\"}]\n",
    "pattern2 = [{\"LOWER\": \"hey\"}, {\"IS_PUNCT\": True}, {\"LOWER\": \"siri\"}]\n",
    "matcher.add(\"HelloWorld\", [pattern1,pattern2])\n",
    "doc = nlp(\"Hey, Siri! Hey siri!\")                               \n",
    "matches = matcher(doc)\n",
    "\n",
    "for match_id, start, end in matches:                                  \n",
    "    string_id = nlp.vocab.strings[match_id]\n",
    "    span = doc[start:end]\n",
    "    print(span.text)"
   ]
  },
  {
   "cell_type": "markdown",
   "id": "a3f4e8bc",
   "metadata": {},
   "source": [
    "# TASK 3"
   ]
  },
  {
   "cell_type": "code",
   "execution_count": 5,
   "id": "f7638751",
   "metadata": {},
   "outputs": [
    {
     "name": "stdout",
     "output_type": "stream",
     "text": [
      "Text= apple , Vector= True , OOV= True\n",
      "Text= orange , Vector= True , OOV= True\n",
      "Text= pikkstn , Vector= True , OOV= True\n",
      "Text= German , Vector= True , OOV= True\n"
     ]
    }
   ],
   "source": [
    "doc = nlp(\"apple orange pikkstn German\")\n",
    "\n",
    "for token in doc:\n",
    "    print('Text=',token.text,\n",
    "          ', Vector=',token.has_vector,\n",
    "          ', OOV=', token.is_oov)  "
   ]
  },
  {
   "cell_type": "markdown",
   "id": "3b135c2e",
   "metadata": {},
   "source": [
    "# TASK 4"
   ]
  },
  {
   "cell_type": "code",
   "execution_count": 6,
   "id": "572801b2",
   "metadata": {},
   "outputs": [],
   "source": [
    "from spacy.matcher import PhraseMatcher   "
   ]
  },
  {
   "cell_type": "code",
   "execution_count": 7,
   "id": "bf99fe6d",
   "metadata": {},
   "outputs": [
    {
     "name": "stdout",
     "output_type": "stream",
     "text": [
      "sweet oranges\n"
     ]
    }
   ],
   "source": [
    "matcher = PhraseMatcher(nlp.vocab)\n",
    "\n",
    "terms = [\"ROTTEN mangoes\", \"sweet oranges\"]\n",
    "\n",
    "patterns = [nlp.make_doc(text) for text in terms]  \n",
    "\n",
    "matcher.add(\"TerminologyList\", patterns)\n",
    "\n",
    "doc = nlp(\"Do not put rotten mangoes and sweet oranges together.\")\n",
    "\n",
    "matches = matcher(doc)\n",
    "\n",
    "for match_id, start, end in matches:                                               \n",
    "    span = doc[start:end]\n",
    "    print(span.text)                                                       "
   ]
  },
  {
   "cell_type": "markdown",
   "id": "b3854edc",
   "metadata": {},
   "source": [
    "# TASK 5"
   ]
  },
  {
   "cell_type": "code",
   "execution_count": 8,
   "id": "48598780",
   "metadata": {},
   "outputs": [
    {
     "name": "stdout",
     "output_type": "stream",
     "text": [
      "Word Vector Representation:\n",
      " [ 0.06806803 -1.2016169  -1.5652864  -0.40728194  1.6453729  -0.1759868\n",
      "  1.6268498  -0.34248835  0.6206384   0.6909156  -0.19549385 -0.1040764\n",
      "  1.2592496   0.380324   -1.2539439   0.76539445 -1.0354416  -0.12940559\n",
      "  0.64465    -0.7193433   0.9052192  -0.06999022  0.24625885 -0.96396774\n",
      "  2.9613056   0.54644954 -1.4664526  -0.11041537 -1.4427226   0.11520356\n",
      " -0.6636156  -0.00677587 -1.7327354   0.25221124 -0.50659573 -1.6204643\n",
      " -0.72535056 -0.00526944 -0.4279209   0.5101794   0.991848    1.6598321\n",
      " -0.35380322  0.86431944 -0.20077458  0.17857635 -0.13458827 -0.5561398\n",
      "  0.53677666 -0.6357974   0.16459122  0.0145467   1.9127849  -0.20415738\n",
      "  1.6507477   3.125585   -0.43996757  1.5095301   0.5535733   0.07370305\n",
      "  0.6603886  -0.9397799   0.5003335  -0.96051013 -0.8717852   0.8672014\n",
      " -1.0910957  -0.13232425  0.6587483  -1.1100581  -0.21392867  0.01556435\n",
      " -0.75802076 -0.8030315  -0.70256245  0.47329092 -0.9076105  -0.4801259\n",
      "  1.1674395  -0.23986194 -0.57782125 -0.5960692  -0.6575123   1.556205\n",
      " -0.22212371 -0.5471229   0.8530091   1.3147866  -0.5847944  -0.6908513\n",
      " -1.1083467   0.34945345  0.8864664   1.1701417  -0.5837916  -0.00404954]\n",
      "Vector Length:\n",
      " (96,)\n",
      "Word Vector Representation:\n",
      " [ 4.50634360e-02  3.51509452e-03 -2.89243430e-01 -1.17581129e+00\n",
      "  1.09167302e+00  8.34329545e-01  3.16712350e-01  7.09049761e-01\n",
      " -1.36297151e-01 -5.59472382e-01  1.01812184e+00  5.51481724e-01\n",
      " -1.88085586e-02  2.64431626e-01 -4.07795608e-01  2.16147855e-01\n",
      "  5.16973510e-02  4.43845034e-01 -1.56313050e+00  1.82368052e+00\n",
      "  1.40781164e+00 -6.55593276e-01 -3.50633085e-01  1.72360465e-01\n",
      " -1.29447854e+00 -2.48103440e-02 -5.75814903e-01 -6.63654983e-01\n",
      "  8.08127105e-01  3.45468760e-01  6.10754609e-01  8.81326079e-01\n",
      "  6.81625307e-01 -8.59007239e-04 -9.84564126e-02 -6.71550095e-01\n",
      "  2.04521835e-01 -6.65825963e-01  4.26252007e-01  1.47830531e-01\n",
      " -1.42618269e-02  7.94599473e-01 -5.55633426e-01 -2.65870661e-01\n",
      " -4.42482322e-01 -1.08968228e-01 -4.29211408e-01 -1.48633730e+00\n",
      " -7.36346900e-01  6.47172809e-01 -8.72287869e-01  1.90968096e-01\n",
      "  1.07715404e+00  1.61178243e+00  6.69799030e-01 -8.63995314e-01\n",
      " -3.44264269e-01 -6.34053946e-01 -2.12406367e-01 -4.14491147e-01\n",
      "  5.69066942e-01 -9.93488073e-01  1.10569403e-01 -2.00805634e-01\n",
      " -1.26365030e+00 -2.19702661e-01 -3.42094302e-01 -1.21328866e+00\n",
      " -1.20526955e-01 -6.61993384e-01 -4.67083812e-01  5.16083121e-01\n",
      " -1.84182718e-01 -3.24078321e-01  8.29166412e-01  3.02504063e-01\n",
      "  2.59421945e+00 -5.54679155e-01  4.10423249e-01  1.48279560e+00\n",
      "  1.11932993e+00 -5.00940800e-01  5.92173874e-01 -1.67889282e-01\n",
      " -3.42050374e-01 -3.48403692e-01 -7.08490670e-01 -1.00787306e+00\n",
      "  8.14926088e-01 -1.14178658e+00  6.92247272e-01 -8.88393104e-01\n",
      " -6.04969800e-01 -5.85435033e-02  4.38127518e-01 -8.96657288e-01]\n",
      "Vector Length:\n",
      " (96,)\n",
      "Word Vector Representation:\n",
      " [ 0.10480353 -0.49197552 -0.20496118 -0.760239   -0.47122908 -0.7015601\n",
      " -0.0657357   0.86766666 -1.0578027  -0.2099011   0.95890284 -0.63164186\n",
      "  0.46163207  0.7872351   0.31448874 -0.2562676  -0.6278169  -0.02433698\n",
      " -0.7902702  -0.6055148  -0.12931277  1.0308115  -1.6312993   0.23955874\n",
      "  0.09123874  0.7660825   0.81333977 -0.5613671  -1.4252008   0.07512712\n",
      " -0.6766579   1.277286   -1.5364846   0.2552494  -0.35204384  1.9197391\n",
      " -0.43609098 -0.5184585   0.40831155 -1.2653605   0.36417702  0.9292078\n",
      " -0.7656622  -0.66002136 -0.1314923  -0.8030009   2.2768145   0.10739635\n",
      "  0.5912285   0.21740615 -0.19791332  0.32096967 -0.46578023 -0.03855768\n",
      " -0.25753927  0.9979013   0.03439802  1.9675794   0.9595772  -0.32654876\n",
      "  0.15258625 -1.5471702  -1.6101171   1.1641765   1.0466456   0.8580335\n",
      "  1.2324977  -0.6704798  -0.47576916  0.52347535  0.7473949  -0.9727545\n",
      "  0.63139135  0.6870031  -1.086419    0.8677303   1.1818526  -0.6319791\n",
      "  0.06473339 -0.58415943 -0.07757591 -0.9006757   0.6127509   0.35648644\n",
      "  0.18577027 -0.31720892  0.56450325 -0.5086746  -1.1182398   0.37447378\n",
      "  0.745901   -0.2041195   0.27174768 -0.5192059  -0.36030683  0.35617277]\n",
      "Vector Length:\n",
      " (96,)\n",
      "Word Vector Representation:\n",
      " [ 7.8856677e-01 -2.3429227e-01  1.2969022e+00  7.0280463e-01\n",
      "  4.6633065e-01 -7.0422530e-02  5.6116915e-01 -8.9834714e-01\n",
      " -3.9322126e-01 -1.5394986e-03 -2.2420555e-02 -2.8280097e-01\n",
      "  9.5249194e-01 -4.5048434e-01 -8.8114768e-01 -9.2490685e-01\n",
      "  3.2441089e-01 -8.9062655e-01 -7.0059299e-01 -1.2548459e-01\n",
      " -1.0725281e-01  6.0736036e-01  5.0707477e-01 -2.4235106e-01\n",
      "  1.2109361e+00 -4.6715888e-01  3.9231545e-01  1.0295216e+00\n",
      "  6.8331283e-01  1.6928850e-01  2.4159461e-02  3.1019762e-01\n",
      " -4.2393720e-01 -4.5254424e-01  8.1145322e-01 -3.6273295e-01\n",
      "  6.9770825e-01 -2.8695270e-01 -5.1019919e-01 -9.2351764e-01\n",
      "  6.6437173e-01 -8.3456272e-01 -7.4556708e-02  1.4350757e-01\n",
      "  2.2172615e-02  1.0451339e+00  1.4439385e+00 -1.2441212e+00\n",
      "  1.4304268e-01  2.3076698e-01 -3.1811768e-01  1.9393058e-01\n",
      " -8.8475865e-01 -5.6101233e-01  2.1668845e-01  1.4755180e-01\n",
      "  2.1684337e-01  1.5416719e-01 -7.7656102e-01 -9.3932134e-01\n",
      " -9.4312191e-01 -7.2168899e-01 -1.8175736e-01  3.9999577e-01\n",
      " -3.8224661e-01 -4.6212293e-02  1.9782120e-01  6.1433530e-01\n",
      " -1.2867681e+00 -1.5051177e+00  6.1463863e-01 -6.7414761e-02\n",
      "  1.2451987e+00 -5.7991636e-01 -6.6556710e-01  1.5400900e+00\n",
      " -1.5682253e-01  5.9357381e-01 -1.1408737e-01  2.1890333e-01\n",
      " -1.4847398e-02 -1.4264641e+00  5.2149749e-01 -2.3838502e-01\n",
      "  8.0460453e-01  5.0646091e-01  1.1070795e+00 -3.2840028e-02\n",
      "  1.1906817e+00  2.9121262e-01 -5.1609159e-01 -6.7808187e-01\n",
      " -2.2383989e-01 -9.2690587e-01  1.1522566e+00  1.4376001e-01]\n",
      "Vector Length:\n",
      " (96,)\n",
      "Word Vector Representation:\n",
      " [-7.18186498e-01  4.25687253e-01  7.62222886e-01  2.19288707e-01\n",
      " -8.31708848e-01  1.13348663e-03  4.18940753e-01 -3.60966355e-01\n",
      "  1.58752823e+00  6.75963461e-02  4.45167243e-01 -2.06017107e-01\n",
      "  5.00981152e-01 -1.48080274e-01 -2.89309919e-01  8.17967772e-01\n",
      "  3.91548932e-01  1.27677247e-01 -1.09995270e+00 -2.91222662e-01\n",
      "  2.19882831e-01 -4.41087544e-01 -1.60111874e-01  9.19997931e-01\n",
      "  4.48138326e-01  1.17052281e+00  2.93395251e-01  6.01308227e-01\n",
      " -1.47956133e-01 -8.46864462e-01 -6.25830173e-01 -4.37847674e-02\n",
      " -5.00245512e-01 -4.91647869e-02 -3.39068472e-02 -7.47988582e-01\n",
      " -4.65064466e-01  2.22400069e-01 -2.62780190e-01 -3.49224687e-01\n",
      "  3.73366475e-01 -6.50865793e-01  6.73762709e-03 -6.02487206e-01\n",
      " -3.16694677e-01  4.81674522e-01  3.08300912e-01 -3.11747402e-01\n",
      " -3.60098481e-01  5.35057783e-01  2.97686994e-01 -1.92352369e-01\n",
      " -3.68255138e-01 -2.44819015e-01  2.77683437e-02 -6.89307213e-01\n",
      "  4.43542659e-01 -2.23371416e-01 -1.08688974e+00  2.89452791e-01\n",
      " -4.86302316e-01 -8.99473548e-01 -3.92956436e-01 -2.85984814e-01\n",
      "  5.25049329e-01 -4.58110541e-01 -1.93679422e-01  6.25414312e-01\n",
      " -6.16912484e-01 -7.75369763e-01  1.03626740e+00  1.22863054e-01\n",
      "  7.36717731e-02  7.70505071e-02 -7.64025331e-01  8.13480377e-01\n",
      "  4.46470231e-02 -7.50419676e-01 -7.14291632e-02  2.26219821e+00\n",
      " -4.36655611e-01 -1.02795315e+00  5.75158656e-01  1.11002684e-01\n",
      "  7.68340349e-01 -4.05649364e-01 -4.30166095e-01  7.80417144e-01\n",
      "  5.73788166e-01 -7.28796721e-02 -8.07023525e-01  2.65347511e-01\n",
      "  3.36149096e-01 -3.63738298e-01  4.83059615e-01  7.56619871e-02]\n",
      "Vector Length:\n",
      " (96,)\n",
      "Word Vector Representation:\n",
      " [ 1.8661740e-01  5.5812943e-01  1.9905883e+00 -2.7648476e-01\n",
      " -9.5051360e-01  6.9517326e-01 -6.1985350e-01 -3.4501269e-01\n",
      " -5.3087461e-01  7.4263936e-01 -4.8701555e-02 -6.3686311e-02\n",
      " -9.9686342e-01 -8.8802272e-01 -6.5949613e-01  6.3651788e-01\n",
      " -1.2766408e+00 -4.6444666e-01 -8.9240348e-01 -8.6017889e-01\n",
      "  2.2835472e-01  4.3232721e-01 -5.9894288e-01  1.6659470e+00\n",
      " -4.2456663e-01  1.4313126e+00  4.2846537e-01 -8.0687240e-02\n",
      "  1.0524576e+00 -8.6879468e-01  4.7236383e-02  2.4005139e-01\n",
      "  4.8673153e-04 -9.9559218e-01 -5.0150311e-01  2.3479545e+00\n",
      " -3.6104915e-01 -5.4034501e-02 -3.6141130e-01  8.3254814e-01\n",
      "  1.6365669e+00  5.9497106e-01  4.8450181e-01 -2.6101306e-01\n",
      "  1.1320363e-01  7.6183522e-01 -7.4914062e-01 -1.0798735e-01\n",
      " -9.2299283e-03 -3.8190413e-01 -6.3845146e-01  7.0551395e-01\n",
      " -2.6329955e-01  7.6370215e-01  5.3611612e-01 -6.4515269e-01\n",
      "  1.4100395e+00 -7.1324199e-01 -6.7986941e-01 -4.7022465e-01\n",
      " -7.8420475e-02 -5.6929433e-01  7.3744333e-01 -5.6966716e-01\n",
      " -9.3448237e-02 -4.6315271e-01  6.6492200e-01 -7.0131582e-01\n",
      "  1.6316622e+00  2.1366208e+00  1.3508371e-01 -3.3403242e-01\n",
      " -1.4806428e+00  3.3534932e-01 -4.4970089e-01 -4.8402488e-01\n",
      " -7.0359373e-01 -1.2986555e+00  2.8667521e-01 -8.7224180e-01\n",
      " -7.4996626e-01 -3.9975911e-02  6.5155828e-01 -4.6602994e-02\n",
      " -2.1564102e-01 -1.0459504e+00  1.2882061e+00 -7.0117176e-02\n",
      " -7.2885203e-01 -7.9602599e-02  2.4761045e-01 -1.3665526e+00\n",
      " -8.6305124e-01  9.3243659e-01 -1.7506650e-01 -5.6334007e-01]\n",
      "Vector Length:\n",
      " (96,)\n",
      "Word Vector Representation:\n",
      " [ 0.41263777 -0.35383657  0.62360555  1.1130923  -0.07414442 -0.6289705\n",
      " -0.03763419 -0.34044844  1.1171075   0.25466734 -0.7062657   0.18734908\n",
      "  0.9386797   0.88576317  0.33390617  0.7473137  -0.8307804  -0.41159877\n",
      " -1.123703   -0.63409305  0.1455522  -1.181977    0.10811366  0.5081391\n",
      "  0.6147368   1.5942047   0.49243787  0.77987444 -0.5412757   0.719882\n",
      "  0.95849067 -1.4758213  -0.6498343  -1.3571131  -0.12672152  0.0345014\n",
      "  0.90050554 -0.06089856 -0.74527806 -0.23058605 -0.170528   -0.7600407\n",
      " -0.79055524 -0.02783272  1.7113532  -1.007297   -0.07690164 -0.52808046\n",
      " -0.22504482  0.03853264 -0.4044257  -0.5361954  -0.50463825 -0.8244126\n",
      "  0.1449641  -0.64536595  2.1012013  -0.8203073  -0.33946785  0.4833117\n",
      " -0.79526347  0.96011174 -0.3230412   0.45570186 -0.7268672   1.1261275\n",
      "  1.1332992   0.6488085  -0.96259    -0.6746264  -0.22036435 -1.1706586\n",
      " -1.3950346  -0.03862479 -1.2289288   0.55311894  0.445422   -1.1430376\n",
      " -0.11461958  0.31998846  0.67291754 -0.21861401  0.8686538  -0.04526979\n",
      "  1.6400849  -0.29504132 -0.5051212   0.41506428  0.24119061  0.22444323\n",
      " -0.2961828   1.0797155  -0.1760278  -0.324815   -0.2391184   1.0688869 ]\n",
      "Vector Length:\n",
      " (96,)\n",
      "Word Vector Representation:\n",
      " [-0.78715664  1.1437286   1.5689383  -0.60292315 -0.42482245 -0.171789\n",
      " -0.06044818 -1.1049795   0.02438383  0.70214176  0.18054943 -1.0186217\n",
      " -0.13882928 -1.1284484  -2.0958424   0.47388908 -1.4065715   1.0839119\n",
      "  4.599308   -0.88186693 -0.30143833 -0.22788718 -1.6862485  -0.6257699\n",
      " -0.03998373  2.592466   -0.11954567  0.8760928   0.91645634 -0.80160534\n",
      " -0.29842335  0.15135142  0.04634102  1.1887506   2.1758347   0.4916766\n",
      "  0.6252258   0.5719013   0.41727856 -1.6831207  -0.12963408 -0.19775563\n",
      " -0.6929401  -0.7386723   0.11967134 -1.0702136  -0.4072445  -1.5003543\n",
      " -0.0991106   0.27277902  0.5784719   0.2863617   0.678257    1.1395775\n",
      "  0.40520582 -0.9264696  -1.7446069   0.08176595 -0.24302858 -0.7565684\n",
      " -0.5366908  -0.15838763 -0.52567357 -0.26201695  0.3163447   0.72251236\n",
      "  0.65114456  1.630563    1.1230786   1.012015    0.75499237 -1.1830978\n",
      " -1.6761432  -0.67272174  0.75139606 -0.5785388  -0.31833917 -0.4887703\n",
      "  0.73406434 -1.316713   -0.8390438   0.19109541 -0.0872204   1.3273506\n",
      " -0.52045965 -0.60526645 -0.28391808 -0.5291101  -0.343733   -0.04683161\n",
      " -0.6979383   5.4203916  -0.94448304 -0.20380488 -0.18861157  0.94256806]\n",
      "Vector Length:\n",
      " (96,)\n"
     ]
    }
   ],
   "source": [
    "doc = nlp(u\"I prefer the morning flight through Denmark.\")\n",
    "\n",
    "for token in doc:                      \n",
    "    print('Word Vector Representation:\\n',token.vector)  \n",
    "    print('Vector Length:\\n',token.vector.shape) "
   ]
  },
  {
   "cell_type": "markdown",
   "id": "c399b241",
   "metadata": {},
   "source": [
    "# TASK 6"
   ]
  },
  {
   "cell_type": "code",
   "execution_count": 9,
   "id": "041c193b",
   "metadata": {},
   "outputs": [
    {
     "name": "stdout",
     "output_type": "stream",
     "text": [
      "text- rotten vector- True ,OOV True\n",
      "text- sweet vector- True ,OOV True\n"
     ]
    }
   ],
   "source": [
    "doc=nlp(\"rotten sweet\")\n",
    "\n",
    "for i in doc:\n",
    "    print(\"text-\",i.text,\"vector-\",i.has_vector,\",OOV\",i.is_oov)"
   ]
  },
  {
   "cell_type": "markdown",
   "id": "5a95a780",
   "metadata": {},
   "source": [
    "##### Similarities..."
   ]
  },
  {
   "cell_type": "code",
   "execution_count": 12,
   "id": "0eb743ba",
   "metadata": {},
   "outputs": [
    {
     "name": "stdout",
     "output_type": "stream",
     "text": [
      "Mangoes Mangoes Mangoes 1.0\n",
      "Mangoes Mangoes Oranges 1.0\n",
      "Mangoes Mangoes Sweet 1.0\n",
      "Mangoes Oranges Mangoes 0.5993388295173645\n",
      "Mangoes Oranges Oranges 0.5993388295173645\n",
      "Mangoes Oranges Sweet 0.5993388295173645\n",
      "Mangoes Sweet Mangoes 0.245577871799469\n",
      "Mangoes Sweet Oranges 0.245577871799469\n",
      "Mangoes Sweet Sweet 0.245577871799469\n",
      "Oranges Mangoes Mangoes 0.5993388295173645\n",
      "Oranges Mangoes Oranges 0.5993388295173645\n",
      "Oranges Mangoes Sweet 0.5993388295173645\n",
      "Oranges Oranges Mangoes 1.0\n",
      "Oranges Oranges Oranges 1.0\n",
      "Oranges Oranges Sweet 1.0\n",
      "Oranges Sweet Mangoes 0.275787353515625\n",
      "Oranges Sweet Oranges 0.275787353515625\n",
      "Oranges Sweet Sweet 0.275787353515625\n",
      "Sweet Mangoes Mangoes 0.245577871799469\n",
      "Sweet Mangoes Oranges 0.245577871799469\n",
      "Sweet Mangoes Sweet 0.245577871799469\n",
      "Sweet Oranges Mangoes 0.275787353515625\n",
      "Sweet Oranges Oranges 0.275787353515625\n",
      "Sweet Oranges Sweet 0.275787353515625\n",
      "Sweet Sweet Mangoes 1.0\n",
      "Sweet Sweet Oranges 1.0\n",
      "Sweet Sweet Sweet 1.0\n"
     ]
    },
    {
     "name": "stderr",
     "output_type": "stream",
     "text": [
      "C:\\Users\\ADMIN\\AppData\\Local\\Temp\\ipykernel_4396\\3693031490.py:6: UserWarning: [W007] The model you're using has no word vectors loaded, so the result of the Token.similarity method will be based on the tagger, parser and NER, which may not give useful similarity judgements. This may happen if you're using one of the small models, e.g. `en_core_web_sm`, which don't ship with word vectors and only use context-sensitive tensors. You can always add your own word vectors, or use one of the larger models instead if available.\n",
      "  print(i.text,k.text,l.text,i.similarity(k))\n"
     ]
    }
   ],
   "source": [
    "doc=nlp(\"Mangoes Oranges Sweet\")\n",
    "\n",
    "for i in doc:\n",
    "    for k in doc:\n",
    "        for l in doc:\n",
    "            print(i.text,k.text,l.text,i.similarity(k))"
   ]
  },
  {
   "cell_type": "code",
   "execution_count": 16,
   "id": "a4009a00",
   "metadata": {},
   "outputs": [
    {
     "name": "stdout",
     "output_type": "stream",
     "text": [
      "Mangoes Sweet 0.3060813546180725\n"
     ]
    },
    {
     "name": "stderr",
     "output_type": "stream",
     "text": [
      "C:\\Users\\ADMIN\\AppData\\Local\\Temp\\ipykernel_4396\\559097501.py:6: UserWarning: [W007] The model you're using has no word vectors loaded, so the result of the Token.similarity method will be based on the tagger, parser and NER, which may not give useful similarity judgements. This may happen if you're using one of the small models, e.g. `en_core_web_sm`, which don't ship with word vectors and only use context-sensitive tensors. You can always add your own word vectors, or use one of the larger models instead if available.\n",
      "  print(i.text,k.text,i.similarity(k))\n"
     ]
    }
   ],
   "source": [
    "doc1=nlp(\"Mangoes\")\n",
    "doc2=nlp(\"Oranges\")\n",
    "\n",
    "for i in doc1:\n",
    "    for x in doc2:\n",
    "        print(i.text,k.text,i.similarity(k))"
   ]
  },
  {
   "cell_type": "code",
   "execution_count": 17,
   "id": "57554b5d",
   "metadata": {},
   "outputs": [
    {
     "name": "stdout",
     "output_type": "stream",
     "text": [
      "sweet Sweet 1.0\n",
      "sweet Sweet 0.03877781331539154\n",
      "oranges Sweet 0.03877781331539154\n",
      "oranges Sweet 1.0\n"
     ]
    },
    {
     "name": "stderr",
     "output_type": "stream",
     "text": [
      "C:\\Users\\ADMIN\\AppData\\Local\\Temp\\ipykernel_4396\\3072172021.py:5: UserWarning: [W007] The model you're using has no word vectors loaded, so the result of the Token.similarity method will be based on the tagger, parser and NER, which may not give useful similarity judgements. This may happen if you're using one of the small models, e.g. `en_core_web_sm`, which don't ship with word vectors and only use context-sensitive tensors. You can always add your own word vectors, or use one of the larger models instead if available.\n",
      "  print(i.text,k.text,i.similarity(x))\n"
     ]
    }
   ],
   "source": [
    "doc3=nlp(\"sweet oranges\")\n",
    "\n",
    "for i in doc3:\n",
    "    for x in doc3:\n",
    "        print(i.text,k.text,i.similarity(x))"
   ]
  },
  {
   "cell_type": "markdown",
   "id": "ea5861e2",
   "metadata": {},
   "source": [
    "1. I prefer the morning flight through Denmark.\n",
    "2. The infrastructure of our school is wonderful.\n",
    "3. \n",
    "4.  Ben slapped the mosquito on his arm quite suddenly"
   ]
  },
  {
   "cell_type": "code",
   "execution_count": null,
   "id": "67cfa397",
   "metadata": {},
   "outputs": [],
   "source": []
  }
 ],
 "metadata": {
  "kernelspec": {
   "display_name": "Python 3 (ipykernel)",
   "language": "python",
   "name": "python3"
  },
  "language_info": {
   "codemirror_mode": {
    "name": "ipython",
    "version": 3
   },
   "file_extension": ".py",
   "mimetype": "text/x-python",
   "name": "python",
   "nbconvert_exporter": "python",
   "pygments_lexer": "ipython3",
   "version": "3.10.2"
  }
 },
 "nbformat": 4,
 "nbformat_minor": 5
}
