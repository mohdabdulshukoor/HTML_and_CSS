{
 "cells": [
  {
   "cell_type": "code",
   "execution_count": null,
   "id": "ceb7f63b",
   "metadata": {},
   "outputs": [],
   "source": []
  },
  {
   "cell_type": "markdown",
   "id": "a976da3c",
   "metadata": {},
   "source": [
    "### Extract Text \n",
    "\n",
    "`url = \"https://quotes.toscrape.com/\"`\n",
    "- Extract the title of the page\n",
    "- Extract all the quotes from the above URL\n",
    "- Extract all the author names from the above URL\n",
    "- Extract all the tags of each quote from the above URL"
   ]
  },
  {
   "cell_type": "markdown",
   "id": "132f9639",
   "metadata": {},
   "source": [
    "### Extract Image URLs\n",
    "\n",
    "#### ` url = https://en.wikipedia.org/wiki/Transhumanism`\n",
    "\n",
    "- Extract all the image URLs from the above URL and store it in a list \n"
   ]
  },
  {
   "cell_type": "markdown",
   "id": "f1365852",
   "metadata": {},
   "source": [
    "### Extract Hyperlinks\n",
    "\n",
    "`url=\"https://en.wikipedia.org/wiki/List_of_countries_by_GDP_(nominal)\"`\n",
    "\n",
    "- Extract the hyperlinks and content from the above URL\n",
    "- Extract the text from the URL\n"
   ]
  },
  {
   "cell_type": "markdown",
   "id": "fdfee6d0",
   "metadata": {},
   "source": [
    "### Extract Population Data Table from the below Wikipedia URL\n",
    "\n",
    "`url=\"https://en.wikipedia.org/wiki/World_population\"`\n",
    "\n",
    "- Extract any two columns from the table\n",
    "- Extract all the columns from the table\n",
    "- Convert the table data into a structured data frame"
   ]
  },
  {
   "cell_type": "code",
   "execution_count": null,
   "id": "9e6e8394",
   "metadata": {},
   "outputs": [],
   "source": []
  }
 ],
 "metadata": {
  "kernelspec": {
   "display_name": "Python 3 (ipykernel)",
   "language": "python",
   "name": "python3"
  },
  "language_info": {
   "codemirror_mode": {
    "name": "ipython",
    "version": 3
   },
   "file_extension": ".py",
   "mimetype": "text/x-python",
   "name": "python",
   "nbconvert_exporter": "python",
   "pygments_lexer": "ipython3",
   "version": "3.10.2"
  }
 },
 "nbformat": 4,
 "nbformat_minor": 5
}
